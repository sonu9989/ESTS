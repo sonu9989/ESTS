{
 "cells": [
  {
   "cell_type": "code",
   "execution_count": null,
   "id": "fec5e51d",
   "metadata": {},
   "outputs": [],
   "source": [
    "import pandas as pd\n",
    "import numpy as np\n",
    "from sklearn.model_selection import train_test_split\n",
    "from sklearn.ensemble import RandomForestRegressor\n",
    "from sklearn.metrics import mean_squared_error, mean_absolute_error\n",
    "from sklearn.utils import shuffle"
   ]
  },
  {
   "cell_type": "code",
   "execution_count": null,
   "id": "1b23480e",
   "metadata": {},
   "outputs": [],
   "source": [
    "pd.set_option('display.max_rows', None)"
   ]
  },
  {
   "cell_type": "markdown",
   "id": "e370a28b",
   "metadata": {},
   "source": [
    "# Importing Decomposed Hydraulic Head (h) for all stations"
   ]
  },
  {
   "cell_type": "code",
   "execution_count": null,
   "id": "5e421e08",
   "metadata": {},
   "outputs": [],
   "source": [
    "Station_1_decomposed_h = pd.read_csv(\"Station_1_decomposed_h.csv\")\n",
    "\n",
    "Station_2_decomposed_h = pd.read_csv(\"Station_2_decomposed_h.csv\")\n",
    "\n",
    "Station_3_decomposed_h = pd.read_csv(\"Station_3_decomposed_h.csv\")\n",
    "\n",
    "Station_4_decomposed_h = pd.read_csv(\"Station_4_decomposed_h.csv\")\n",
    "\n",
    "Station_5_decomposed_h = pd.read_csv(\"Station_5_decomposed_h.csv\")\n",
    "\n",
    "Station_6_decomposed_h = pd.read_csv(\"Station_6_decomposed_h.csv\")\n",
    "\n",
    "Station_7_decomposed_h = pd.read_csv(\"Station_7_decomposed_h.csv\")\n",
    "\n",
    "Station_8_decomposed_h = pd.read_csv(\"Station_8_decomposed_h.csv\")\n",
    "\n",
    "Station_9_decomposed_h = pd.read_csv(\"Station_9_decomposed_h.csv\")\n",
    "\n",
    "Station_10_decomposed_h = pd.read_csv(\"Station_10_decomposed_h.csv\")\n",
    "\n",
    "Station_11_decomposed_h = pd.read_csv(\"Station_11_decomposed_h.csv\")\n",
    "\n",
    "Station_12_decomposed_h = pd.read_csv(\"Station_12_decomposed_h.csv\")\n",
    "\n",
    "Station_13_decomposed_h = pd.read_csv(\"Station_13_decomposed_h.csv\")\n",
    "\n",
    "Station_14_decomposed_h = pd.read_csv(\"Station_14_decomposed_h.csv\")\n",
    "\n",
    "Station_15_decomposed_h = pd.read_csv(\"Station_15_decomposed_h.csv\")\n",
    "\n",
    "Station_16_decomposed_h = pd.read_csv(\"Station_16_decomposed_h.csv\")\n",
    "\n",
    "Station_17_decomposed_h = pd.read_csv(\"Station_17_decomposed_h.csv\")\n",
    "\n",
    "Station_18_decomposed_h = pd.read_csv(\"Station_18_decomposed_h.csv\")"
   ]
  },
  {
   "cell_type": "markdown",
   "id": "1f25242f",
   "metadata": {},
   "source": [
    "# Importing Decomposed s(300m) for all stations"
   ]
  },
  {
   "cell_type": "code",
   "execution_count": null,
   "id": "da4bbf7b",
   "metadata": {},
   "outputs": [],
   "source": [
    "Station_1_decomposed_s = pd.read_csv(\"Station_1_decomposed_s.csv\")\n",
    "\n",
    "Station_2_decomposed_s = pd.read_csv(\"Station_2_decomposed_s.csv\")\n",
    "\n",
    "Station_3_decomposed_s = pd.read_csv(\"Station_3_decomposed_s.csv\")\n",
    "\n",
    "Station_4_decomposed_s = pd.read_csv(\"Station_4_decomposed_s.csv\")\n",
    "\n",
    "Station_5_decomposed_s = pd.read_csv(\"Station_5_decomposed_s.csv\")\n",
    "\n",
    "Station_6_decomposed_s = pd.read_csv(\"Station_6_decomposed_s.csv\")\n",
    "\n",
    "Station_7_decomposed_s = pd.read_csv(\"Station_7_decomposed_s.csv\")\n",
    "\n",
    "Station_8_decomposed_s = pd.read_csv(\"Station_8_decomposed_s.csv\")\n",
    "\n",
    "Station_9_decomposed_s = pd.read_csv(\"Station_9_decomposed_s.csv\")\n",
    "\n",
    "Station_10_decomposed_s = pd.read_csv(\"Station_10_decomposed_s.csv\")\n",
    "\n",
    "Station_11_decomposed_s = pd.read_csv(\"Station_11_decomposed_s.csv\")\n",
    "\n",
    "Station_12_decomposed_s = pd.read_csv(\"Station_12_decomposed_s.csv\")\n",
    "\n",
    "Station_13_decomposed_s = pd.read_csv(\"Station_13_decomposed_s.csv\")\n",
    "\n",
    "Station_14_decomposed_s = pd.read_csv(\"Station_14_decomposed_s.csv\")\n",
    "\n",
    "Station_15_decomposed_s = pd.read_csv(\"Station_15_decomposed_s.csv\")\n",
    "\n",
    "Station_16_decomposed_s = pd.read_csv(\"Station_16_decomposed_s.csv\")\n",
    "\n",
    "Station_17_decomposed_s = pd.read_csv(\"Station_17_decomposed_s.csv\")\n",
    "\n",
    "Station_18_decomposed_s = pd.read_csv(\"Station_18_decomposed_s.csv\")"
   ]
  },
  {
   "cell_type": "markdown",
   "id": "c8175d6b",
   "metadata": {},
   "source": [
    "# Splitting the Data into Training & Testing"
   ]
  },
  {
   "cell_type": "code",
   "execution_count": null,
   "id": "5c03e0d8",
   "metadata": {},
   "outputs": [],
   "source": [
    "training_h = [Station_4_decomposed_h[0:48], Station_6_decomposed_h[0:48], Station_8_decomposed_h[0:48], Station_1_decomposed_h[0:48], Station_7_decomposed_h[0:48], Station_2_decomposed_h[0:48], Station_15_decomposed_h[0:48], Station_3_decomposed_h[0:48], Station_12_decomposed_h[0:48], Station_11_decomposed_h[0:48], Station_5_decomposed_h[0:48], Station_16_decomposed_h[0:48], Station_17_decomposed_h[0:48], Station_14_decomposed_h[0:48], Station_18_decomposed_h[0:48], Station_10_decomposed_h[0:48], Station_9_decomposed_h[0:48], Station_13_decomposed_h[0:48]]\n",
    "training_s_deep = [Station_4_decomposed_s[0:48], Station_6_decomposed_s[0:48], Station_8_decomposed_s[0:48], Station_1_decomposed_s[0:48], Station_7_decomposed_s[0:48], Station_2_decomposed_s[0:48], Station_15_decomposed_s[0:48], Station_3_decomposed_s[0:48], Station_12_decomposed_s[0:48], Station_11_decomposed_s[0:48], Station_5_decomposed_s[0:48], Station_16_decomposed_s[0:48], Station_17_decomposed_s[0:48], Station_14_decomposed_s[0:48], Station_18_decomposed_s[0:48], Station_10_decomposed_s[0:48], Station_9_decomposed_s[0:48], Station_13_decomposed_s[0:48]]\n",
    "testing_h = [Station_4_decomposed_h[48:], Station_6_decomposed_h[48:], Station_8_decomposed_h[48:], Station_1_decomposed_h[48:], Station_7_decomposed_h[48:], Station_2_decomposed_h[48:], Station_15_decomposed_h[48:], Station_3_decomposed_h[48:], Station_12_decomposed_h[48:], Station_11_decomposed_h[48:], Station_5_decomposed_h[48:], Station_16_decomposed_h[48:], Station_17_decomposed_h[48:], Station_14_decomposed_h[48:], Station_18_decomposed_h[48:], Station_10_decomposed_h[48:], Station_9_decomposed_h[48:], Station_13_decomposed_h[48:]]\n",
    "testing_s_deep = [Station_4_decomposed_s[48:], Station_6_decomposed_s[48:], Station_8_decomposed_s[48:], Station_1_decomposed_s[48:], Station_7_decomposed_s[48:], Station_2_decomposed_s[48:], Station_15_decomposed_s[48:], Station_3_decomposed_s[48:], Station_12_decomposed_s[48:], Station_11_decomposed_s[48:], Station_5_decomposed_s[48:], Station_16_decomposed_s[48:], Station_17_decomposed_s[48:], Station_14_decomposed_s[48:], Station_18_decomposed_s[48:], Station_10_decomposed_s[48:], Station_9_decomposed_s[48:], Station_13_decomposed_s[48:]]"
   ]
  },
  {
   "cell_type": "markdown",
   "id": "87e843e8",
   "metadata": {},
   "source": [
    "# Creating Non-trend Data for both h & s"
   ]
  },
  {
   "cell_type": "code",
   "execution_count": null,
   "id": "334e0c8d",
   "metadata": {},
   "outputs": [],
   "source": [
    "training_h_df = pd.concat(training_h)\n",
    "non_trend_train_h_df = pd.DataFrame(training_h_df[\"Seasonal\"] + training_h_df[\"Residual\"], columns=[\"Non-trend (h)\"])\n",
    "training_s_deep_df = pd.concat(training_s_deep)\n",
    "non_trend_train_s_deep_df = pd.DataFrame(training_s_deep_df[\"Seasonal\"] + training_s_deep_df[\"Residual\"], columns=[\"Non-trend (s)\"])\n",
    "testing_h_df = pd.concat(testing_h)\n",
    "non_trend_test_h_df = pd.DataFrame(testing_h_df[\"Seasonal\"] + testing_h_df[\"Residual\"], columns=[\"Non-trend (h)\"])\n",
    "testing_s_deep_df = pd.concat(testing_s_deep)\n",
    "non_trend_test_s_deep_df = pd.DataFrame(testing_s_deep_df[\"Seasonal\"] + testing_s_deep_df[\"Residual\"], columns=[\"Non-trend (s)\"])"
   ]
  },
  {
   "cell_type": "markdown",
   "id": "73b500e1",
   "metadata": {},
   "source": [
    "# Single RF Model"
   ]
  },
  {
   "cell_type": "code",
   "execution_count": null,
   "id": "8b08d198",
   "metadata": {},
   "outputs": [],
   "source": [
    "rf_non_trend_deep_single_1 = RandomForestRegressor(criterion= \"squared_error\", max_depth=5, max_samples= 0.76, min_samples_leaf=0.001, n_estimators=54, random_state=301)\n",
    "rf_non_trend_deep_single_1.fit(non_trend_train_h_df, non_trend_train_s_deep_df)\n",
    "print(rf_non_trend_deep_single_1.score(non_trend_train_h_df, non_trend_train_s_deep_df) ,rf_non_trend_deep_single_1.score(non_trend_test_h_df, non_trend_test_s_deep_df))"
   ]
  },
  {
   "cell_type": "code",
   "execution_count": null,
   "id": "4eb958d3",
   "metadata": {},
   "outputs": [],
   "source": [
    "#Prediction using the Model\n",
    "pred_non_trend_s_train = rf_non_trended_deep_single_1.predict(non_trend_train_h_df)\n",
    "pred_non_trend_s_test = rf_non_trended_deep_single_1.predict(non_trend_test_h_df)"
   ]
  },
  {
   "cell_type": "code",
   "execution_count": null,
   "id": "eac43a6f",
   "metadata": {},
   "outputs": [],
   "source": [
    "# Computing Single RF model Error\n",
    "mse_train = mean_squared_error(non_trend_train_s_deep_df, pred_non_trend_s_train)\n",
    "rmse_train = np.sqrt(mse_train)\n",
    "mse_test = mean_squared_error(non_trend_test_s_deep_df, pred_non_trend_s_test)\n",
    "rmse_test = np.sqrt(mse_test)\n",
    "mae_train = mean_absolute_error(non_trend_train_s_deep_df, pred_non_trend_s_train)\n",
    "mae_test = mean_absolute_error(non_trend_test_s_deep_df, pred_non_trend_s_test)\n",
    "\n",
    "\n",
    "print('RMSE for Train:', rmse_train, 'RMSE For Test:', rmse_test, '\\n MAE for Train:' , mae_train, 'MAE for Test:', mae_test)"
   ]
  },
  {
   "cell_type": "code",
   "execution_count": null,
   "id": "d56af4a2",
   "metadata": {},
   "outputs": [],
   "source": [
    "#Saving the Prediction Results for Testing\n",
    "predicted_rf = pd.DataFrame(pred_non_trend_s_test, columns=[\"Predicted Non-Trend (s)\"])\n",
    "test_prediction_df = pd.concat([pd.DataFrame(non_trend_test_s_deep_df.values, columns=[\"Non-trend (s)\"]), predicted_rf], axis=1, ignore_index= True)\n",
    "test_prediction_df.to_csv(\"Non-trend_single_RF (2019-20).csv\", header=[ \"Original Non-Trend (s)\", \"Predicted Non-Trend (s)\"])"
   ]
  },
  {
   "cell_type": "code",
   "execution_count": null,
   "id": "ccde90d2",
   "metadata": {},
   "outputs": [],
   "source": [
    "#Saving the Prediction Results for Training\n",
    "predicted_rf = pd.DataFrame(pred_non_trend_s_train, columns=[\"Predicted Non-Trend (s)\"])\n",
    "train_prediction_df = pd.concat([pd.DataFrame(non_trend_train_s_deep_df.values, columns=[\"Non-trend (s)\"]), predicted_rf], axis=1, ignore_index= True)\n",
    "train_prediction_df.to_csv(\"Non-trend_single_RF (2015-18).csv\", header=[ \"Original Non-Trend (s)\", \"Predicted Non-Trend (s)\"])"
   ]
  },
  {
   "cell_type": "markdown",
   "id": "b1768073",
   "metadata": {},
   "source": [
    "# Creating Cluster-1 Non-trend Data"
   ]
  },
  {
   "cell_type": "code",
   "execution_count": null,
   "id": "4bbb0c83",
   "metadata": {},
   "outputs": [],
   "source": [
    "#Training\n",
    "Cluster_1_training_h = [Station_4_decomposed_h[0:48], Station_6_decomposed_h[0:48], Station_1_decomposed_h[0:48], Station_8_decomposed_h[0:48], Station_7_decomposed_h[0:48], Station_2_decomposed_h[0:48], Station_15_decomposed_h[0:48]]\n",
    "Cluster_1_training_s_deep = [Station_4_decomposed_s[0:48], Station_6_decomposed_s[0:48], Station_1_decomposed_s[0:48], Station_8_decomposed_s[0:48], Station_7_decomposed_s[0:48], Station_2_decomposed_s[0:48], Station_15_decomposed_s[0:48]]\n",
    "Cluster_1_training_h_df = pd.concat(Cluster_1_training_h)\n",
    "Cluster_1_training_s_deep_df = pd.concat(Cluster_1_training_s_deep)\n",
    "non_trend_train_h = Cluster_1_training_h_df[\"Seasonal\"] + Cluster_1_training_h_df[\"Residual\"]\n",
    "x_train_non_trend_c1 = pd.DataFrame(non_trend_train_h, columns= [\"Non-trend (h)\"]).to_numpy().reshape(-1,1)\n",
    "non_trend_train_s_deep = Cluster_1_training_s_deep_df[\"Seasonal\"] + Cluster_1_training_s_deep_df[\"Residual\"]\n",
    "y_train_non_trend_deep_c1 = pd.DataFrame(non_trend_train_s_deep, columns=[\"Non-trend (s)\"])\n",
    "\n",
    "#Testing\n",
    "Cluster_1_testing_h = [Station_4_decomposed_h[48:], Station_6_decomposed_h[48:], Station_1_decomposed_h[48:], Station_8_decomposed_h[48:], Station_7_decomposed_h[48:], Station_2_decomposed_h[48:], Station_15_decomposed_h[48:]]\n",
    "Cluster_1_testing_s_deep = [Station_4_decomposed_s[48:], Station_6_decomposed_s[48:], Station_1_decomposed_s[48:], Station_8_decomposed_s[48:], Station_7_decomposed_s[48:], Station_2_decomposed_s[48:], Station_15_decomposed_s[48:]]\n",
    "Cluster_1_testing_h_df = pd.concat(Cluster_1_testing_h)\n",
    "Cluster_1_testing_s_deep_df = pd.concat(Cluster_1_testing_s_deep)\n",
    "non_trend_test_h = Cluster_1_testing_h_df[\"Seasonal\"] + Cluster_1_testing_h_df[\"Residual\"]\n",
    "x_test_non_trend_c1 = pd.DataFrame(non_trend_test_h, columns=[\"Non-trend (h)\"]).to_numpy().reshape(-1,1)\n",
    "non_trend_test_s_deep = Cluster_1_testing_s_deep_df[\"Seasonal\"] + Cluster_1_testing_s_deep_df[\"Residual\"]\n",
    "y_test_non_trended_deep_c1 = pd.DataFrame(non_trend_test_s_deep, columns=[\"Non-trend (s)\"])"
   ]
  },
  {
   "cell_type": "markdown",
   "id": "54925c2a",
   "metadata": {},
   "source": [
    "# RF Model (Cluster-1)"
   ]
  },
  {
   "cell_type": "code",
   "execution_count": null,
   "id": "680ba9d5",
   "metadata": {},
   "outputs": [],
   "source": [
    "rf_non_trend_deep_c1 = RandomForestRegressor(criterion= \"squared_error\", max_depth=3, max_samples= 0.76, n_estimators=54, random_state=301, min_samples_leaf= 0.001)\n",
    "rf_non_trend_deep_c1.fit(x_train_non_trend_c1, y_train_non_trend_deep_c1)\n",
    "print(rf_non_trend_deep_c1.score(x_train_non_trend_c1, y_train_non_trend_deep_c1) ,rf_non_trend_deep_c1.score(x_test_non_trend_c1, y_test_non_trend_deep_c1))"
   ]
  },
  {
   "cell_type": "code",
   "execution_count": null,
   "id": "09c6d58a",
   "metadata": {},
   "outputs": [],
   "source": [
    "#Prediction Using the model\n",
    "pred_non_trend_s_train_c1 = rf_non_trend_deep_c1.predict(x_train_non_trend_c1)\n",
    "pred_non_trend_s_test_c1 = rf_non_trend_deep_c1.predict(x_test_non_trend_c1)"
   ]
  },
  {
   "cell_type": "code",
   "execution_count": null,
   "id": "7a4263b7",
   "metadata": {},
   "outputs": [],
   "source": [
    "#Calculating RF (Cluster-1) model error\n",
    "mse_train_c1 = mean_squared_error(y_train_non_trend_deep_c1, pred_non_trend_s_train_c1)\n",
    "rmse_train_c1 = np.sqrt(mse_train_c1)\n",
    "mse_test_c1 = mean_squared_error(y_test_non_trend_deep_c1, pred_non_trend_s_test_c1)\n",
    "rmse_test_c1 = np.sqrt(mse_test_c1)\n",
    "mae_train_c1 = mean_absolute_error(y_train_non_trend_deep_c1, pred_non_trend_s_train_c1)\n",
    "mae_test_c1 = mean_absolute_error(y_test_non_trend_deep_c1, pred_non_trend_s_test_c1)\n",
    "\n",
    "\n",
    "print('RMSE for Train:', rmse_train_c1, 'RMSE For Test:', rmse_test_c1, '\\n MAE for Train:' , mae_train_c1, 'MAE for Test:', mae_test_c1)"
   ]
  },
  {
   "cell_type": "code",
   "execution_count": null,
   "id": "cc3707c6",
   "metadata": {},
   "outputs": [],
   "source": [
    "#Saving the Prediction Results for Testing\n",
    "predicted_rf_train_c1 = pd.DataFrame(pred_non_trend_s_train_c1, columns=[\"Predicted Non-Trend (s)\"])\n",
    "train_prediction_c1_df = pd.concat([pd.DataFrame(y_train_non_trend_deep_c1.values, columns=[\"Non-Trend (s)\"]), predicted_rf_train_c1], axis=1, ignore_index= True)\n",
    "train_prediction_c1_df.to_csv(\"Non-Trend_c1_RF (2015-18).csv\", header=[ \"Original Non-Trend (s)\", \"Predicted Non-Trend (s)\"])"
   ]
  },
  {
   "cell_type": "code",
   "execution_count": null,
   "id": "d998add1",
   "metadata": {},
   "outputs": [],
   "source": [
    "#Saving the Prediction Results for Training\n",
    "predicted_rf_test_c1 = pd.DataFrame(pred_detrended_s_test_c1, columns=[\"Predicted Non-Trend (s)\"])\n",
    "test_prediction_c1_df = pd.concat([pd.DataFrame(y_test_detrended_deep_c1.values, columns=[\"Non-Trend (s)\"]), predicted_rf_test_c1], axis=1, ignore_index= True)\n",
    "test_prediction_c1_df.to_csv(\"Non-Trend_c1_RF (2019-20).csv\", header=[ \"Original Non-Trend (s)\", \"Predicted Non-Trend (s)\"])"
   ]
  },
  {
   "cell_type": "markdown",
   "id": "a51e41cf",
   "metadata": {},
   "source": [
    "# Creating Cluster-2 Non-trend Data"
   ]
  },
  {
   "cell_type": "code",
   "execution_count": null,
   "id": "5e6b1ee6",
   "metadata": {},
   "outputs": [],
   "source": [
    "#Training\n",
    "Cluster_2_training_h= [Station_3_decomposed_h[0:48], Station_12_decomposed_h[0:48], Station_11_decomposed_h[0:48], Station_5_decomposed_h[0:48], Station_16_decomposed_h[0:48], Station_17_decomposed_h[0:48], Station_14_decomposed_h[0:48], Station_18_decomposed_h[0:48], Station_10_decomposed_h[0:48], Station_9_decomposed_h[0:48], Station_13_decomposed_h[0:48]]\n",
    "Cluster_2_training_s_deep= [Station_3_decomposed_s[0:48], Station_12_decomposed_s[0:48], Station_11_decomposed_s[0:48], Station_5_decomposed_s[0:48], Station_16_decomposed_s[0:48], Station_17_decomposed_s[0:48], Station_14_decomposed_s[0:48], Station_18_decomposed_s[0:48], Station_10_decomposed_s[0:48], Station_9_decomposed_s[0:48], Station_13_decomposed_s[0:48]]\n",
    "Cluster_2_training_h_df = pd.concat(Cluster_2_training_h)\n",
    "Cluster_2_training_s_deep_df = pd.concat(Cluster_2_training_s_deep)\n",
    "non_trend_train_h_c2 = Cluster_2_training_h_df[\"Seasonal\"] + Cluster_2_training_h_df[\"Residual\"]\n",
    "non_trend_train_h_c2_df = pd.DataFrame(non_trend_train_h_c2, columns=[\"Non-trend (h)])\n",
    "x_train_non_trend_c2 = non_trend_train_h_c2_df.to_numpy().reshape(-1,1)\n",
    "non_trend_train_s_deep_c2 = Cluster_2_training_s_deep_df[\"Seasonal\"] + Cluster_2_training_s_deep_df[\"Residual\"]\n",
    "non_trend_train_s_deep_c2_df = pd.DataFrame(non_trend_train_s_deep_c2, columns=[\"Non-trend (s)\"])\n",
    "y_train_non_trend_deep_c2 = non_trend_train_s_deep_c2_df.squeeze()\n",
    "\n",
    "#Testing\n",
    "Cluster_2_testing_h= [Station_3_decomposed_h[48:], Station_12_decomposed_h[48:], Station_11_decomposed_h[48:], Station_5_decomposed_h[48:], Station_16_decomposed_h[48:], Station_17_decomposed_h[48:], Station_14_decomposed_h[48:], Station_18_decomposed_h[48:], Station_10_decomposed_h[48:], Station_9_decomposed_h[48:], Station_13_decomposed_h[48:]]\n",
    "Cluster_2_testing_s_deep= [Station_3_decomposed_s[48:], Station_12_decomposed_s[48:], Station_11_decomposed_s[48:], Station_5_decomposed_s[48:], Station_16_decomposed_s[48:], Station_17_decomposed_s[48:], Station_14_decomposed_s[48:], Station_18_decomposed_s[48:], Station_10_decomposed_s[48:], Station_9_decomposed_s[48:], Station_13_decomposed_s[48:]]\n",
    "Cluster_2_testing_h_df = pd.concat(Cluster_2_testing_h)\n",
    "Cluster_2_testing_s_deep_df = pd.concat(Cluster_2_testing_s_deep)\n",
    "non_trend_test_h_c2 = Cluster_2_testing_h_df[\"Seasonal\"] + Cluster_2_testing_h_df[\"Residual\"]\n",
    "non_trend_test_h_c2_df = pd.DataFrame(non_trend_test_h_c2, columns=[\"Non-trend (h)\"])\n",
    "x_test_non_trend_c2 = non_trend_test_h_c2_df.to_numpy().reshape(-1,1)\n",
    "non_trend_test_s_deep_c2 = Cluster_2_testing_s_deep_df[\"Seasonal\"] + Cluster_2_testing_s_deep_df[\"Residual\"]\n",
    "non_trend_test_s_deep_c2_df = pd.DataFrame(non_trend_test_s_deep_c2, columns=[\"Non-trend (s)\"])\n",
    "y_test_non_trend_deep_c2 = non_trend_test_s_deep_c2_df.squeeze()"
   ]
  },
  {
   "cell_type": "markdown",
   "id": "3f58d81b",
   "metadata": {},
   "source": [
    "# RF Model (Cluster-2)"
   ]
  },
  {
   "cell_type": "code",
   "execution_count": null,
   "id": "00e4d2bb",
   "metadata": {},
   "outputs": [],
   "source": [
    "rf_non_trend_deep_c2 = RandomForestRegressor(criterion= \"squared_error\", max_depth=5, max_samples= 0.7, n_estimators=65, random_state=301, min_samples_leaf= 0.001)\n",
    "rf_non_trend_deep_c2.fit(x_train_non_trend_c2, y_train_non_trend_deep_c2)\n",
    "print(rf_non_trend_deep_c2.score(x_train_non_trend_c2, y_train_non_trend_deep_c2) ,rf_non_trend_deep_c2.score(x_test_non_trend_c2, y_test_non_trend_deep_c2))"
   ]
  },
  {
   "cell_type": "code",
   "execution_count": null,
   "id": "dd055903",
   "metadata": {},
   "outputs": [],
   "source": [
    "#Prediction Using the model\n",
    "pred_non_trend_s_train_c2 = rf_non_trend_deep_c2.predict(x_train_non_trend_c2)\n",
    "pred_non_trend_s_test_c2 = rf_non_trend_deep_c2.predict(x_test_non_trend_c2)"
   ]
  },
  {
   "cell_type": "code",
   "execution_count": null,
   "id": "bb2b76b2",
   "metadata": {},
   "outputs": [],
   "source": [
    "#Calculating RF (Cluster-2) model error\n",
    "mse_train_c2 = mean_squared_error(y_train_non_trend_deep_c2, pred_non_trend_s_train_c2)\n",
    "rmse_train_c2 = np.sqrt(mse_train_c2)\n",
    "mse_test_c2 = mean_squared_error(y_test_non_trend_deep_c2, pred_non_trend_s_test_c2)\n",
    "rmse_test_c2 = np.sqrt(mse_test_c2)\n",
    "mae_train_c2 = mean_absolute_error(y_train_non_trend_deep_c2, pred_non_trend_s_train_c2)\n",
    "mae_test_c2 = mean_absolute_error(y_test_non_trend_deep_c2, pred_non_trend_s_test_c2)\n",
    "\n",
    "\n",
    "print('RMSE for Train:', rmse_train_c2, 'RMSE For Test:', rmse_test_c2, '\\n MAE for Train:' , mae_train_c2, 'MAE for Test:', mae_test_c2)"
   ]
  },
  {
   "cell_type": "code",
   "execution_count": null,
   "id": "c43a257b",
   "metadata": {},
   "outputs": [],
   "source": [
    "#Saving the Prediction Results for Testing\n",
    "predicted_rf_train_c2 = pd.DataFrame(pred_non_trend_s_train_c2, columns=[\"Predicted Non-Trend (s)\"])\n",
    "train_prediction_c2_df = pd.concat([pd.DataFrame(y_train_non_trend_deep_c2.values, columns=[\"Non-Trend (s)\"]), predicted_rf_train_c2], axis=1, ignore_index= True)\n",
    "train_prediction_c2_df.to_csv(\"Non-Trend_c2_RF (2015-18).csv\", header=[ \"Original Non-Trend (s)\", \"Predicted Non-Trend (s)\"])"
   ]
  },
  {
   "cell_type": "code",
   "execution_count": null,
   "id": "3e7d9982",
   "metadata": {},
   "outputs": [],
   "source": [
    "#Saving the Prediction Results for Training\n",
    "predicted_rf_test_c2 = pd.DataFrame(pred_non_trend_s_test_c2, columns=[\"Predicted Non-Trend (s)\"])\n",
    "test_prediction_c2_df = pd.concat([pd.DataFrame(y_test_non_trend_deep_c2.values, columns=[\"Non-Trend (s)\"]), predicted_rf_test_c2], axis=1, ignore_index= True)\n",
    "test_prediction_c2_df.to_csv(\"Non-Trend_c2_RF (2019-20).csv\", header=[ \"Original Non-Trend (s)\", \"Predicted Non-Trend (s)\"])"
   ]
  }
 ],
 "metadata": {
  "kernelspec": {
   "display_name": "Python 3 (ipykernel)",
   "language": "python",
   "name": "python3"
  },
  "language_info": {
   "codemirror_mode": {
    "name": "ipython",
    "version": 3
   },
   "file_extension": ".py",
   "mimetype": "text/x-python",
   "name": "python",
   "nbconvert_exporter": "python",
   "pygments_lexer": "ipython3",
   "version": "3.9.12"
  }
 },
 "nbformat": 4,
 "nbformat_minor": 5
}
